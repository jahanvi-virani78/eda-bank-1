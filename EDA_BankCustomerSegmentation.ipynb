{
 "cells": [
  {
   "cell_type": "code",
   "execution_count": 220,
   "metadata": {},
   "outputs": [],
   "source": [
    "import pandas as pd\n",
    "# importing the dataset\n",
    "data = pd.read_csv('D:/Sai Manoj P/projects/CustomerSegmentationAnalysis/bank_transactions.csv')"
   ]
  },
  {
   "cell_type": "markdown",
   "metadata": {},
   "source": [
    "Getting an overview of the data in the dataset"
   ]
  },
  {
   "cell_type": "code",
   "execution_count": 221,
   "metadata": {},
   "outputs": [
    {
     "name": "stdout",
     "output_type": "stream",
     "text": [
      "<class 'pandas.core.frame.DataFrame'>\n",
      "RangeIndex: 1048567 entries, 0 to 1048566\n",
      "Data columns (total 9 columns):\n",
      " #   Column                   Non-Null Count    Dtype  \n",
      "---  ------                   --------------    -----  \n",
      " 0   TransactionID            1048567 non-null  object \n",
      " 1   CustomerID               1048567 non-null  object \n",
      " 2   CustomerDOB              1045170 non-null  object \n",
      " 3   CustGender               1047467 non-null  object \n",
      " 4   CustLocation             1048416 non-null  object \n",
      " 5   CustAccountBalance       1046198 non-null  float64\n",
      " 6   TransactionDate          1048567 non-null  object \n",
      " 7   TransactionTime          1048567 non-null  int64  \n",
      " 8   TransactionAmount (INR)  1048567 non-null  float64\n",
      "dtypes: float64(2), int64(1), object(6)\n",
      "memory usage: 72.0+ MB\n"
     ]
    }
   ],
   "source": [
    "data.info()"
   ]
  },
  {
   "cell_type": "code",
   "execution_count": 222,
   "metadata": {},
   "outputs": [
    {
     "data": {
      "text/plain": [
       "TransactionID              1048567\n",
       "CustomerID                  884265\n",
       "CustomerDOB                  17254\n",
       "CustGender                       3\n",
       "CustLocation                  9355\n",
       "CustAccountBalance          161328\n",
       "TransactionDate                 55\n",
       "TransactionTime              81918\n",
       "TransactionAmount (INR)      93024\n",
       "dtype: int64"
      ]
     },
     "execution_count": 222,
     "metadata": {},
     "output_type": "execute_result"
    }
   ],
   "source": [
    "# checking for number of unique values in each column\n",
    "data.nunique()"
   ]
  },
  {
   "cell_type": "code",
   "execution_count": 223,
   "metadata": {},
   "outputs": [
    {
     "data": {
      "text/plain": [
       "array(['F', 'M', nan, 'T'], dtype=object)"
      ]
     },
     "execution_count": 223,
     "metadata": {},
     "output_type": "execute_result"
    }
   ],
   "source": [
    "data.CustGender.unique()"
   ]
  },
  {
   "cell_type": "code",
   "execution_count": 224,
   "metadata": {},
   "outputs": [
    {
     "data": {
      "text/html": [
       "<div>\n",
       "<style scoped>\n",
       "    .dataframe tbody tr th:only-of-type {\n",
       "        vertical-align: middle;\n",
       "    }\n",
       "\n",
       "    .dataframe tbody tr th {\n",
       "        vertical-align: top;\n",
       "    }\n",
       "\n",
       "    .dataframe thead th {\n",
       "        text-align: right;\n",
       "    }\n",
       "</style>\n",
       "<table border=\"1\" class=\"dataframe\">\n",
       "  <thead>\n",
       "    <tr style=\"text-align: right;\">\n",
       "      <th></th>\n",
       "      <th>TransactionID</th>\n",
       "      <th>CustomerID</th>\n",
       "      <th>CustomerDOB</th>\n",
       "      <th>CustGender</th>\n",
       "      <th>CustLocation</th>\n",
       "      <th>CustAccountBalance</th>\n",
       "      <th>TransactionDate</th>\n",
       "      <th>TransactionTime</th>\n",
       "      <th>TransactionAmount (INR)</th>\n",
       "    </tr>\n",
       "  </thead>\n",
       "  <tbody>\n",
       "  </tbody>\n",
       "</table>\n",
       "</div>"
      ],
      "text/plain": [
       "Empty DataFrame\n",
       "Columns: [TransactionID, CustomerID, CustomerDOB, CustGender, CustLocation, CustAccountBalance, TransactionDate, TransactionTime, TransactionAmount (INR)]\n",
       "Index: []"
      ]
     },
     "execution_count": 224,
     "metadata": {},
     "output_type": "execute_result"
    }
   ],
   "source": [
    "# verifying that there are any duplicates in the data\n",
    "data[data.duplicated(subset='TransactionID', keep=False)]"
   ]
  },
  {
   "cell_type": "markdown",
   "metadata": {},
   "source": [
    "'TransactionID' is considered for checking duplicates, as it should be the unique parameter in the dataset and it looks like there is no transaction duplicated."
   ]
  },
  {
   "cell_type": "code",
   "execution_count": 225,
   "metadata": {},
   "outputs": [
    {
     "data": {
      "text/plain": [
       "TransactionID                 0\n",
       "CustomerID                    0\n",
       "CustomerDOB                3397\n",
       "CustGender                 1100\n",
       "CustLocation                151\n",
       "CustAccountBalance         2369\n",
       "TransactionDate               0\n",
       "TransactionTime               0\n",
       "TransactionAmount (INR)       0\n",
       "dtype: int64"
      ]
     },
     "execution_count": 225,
     "metadata": {},
     "output_type": "execute_result"
    }
   ],
   "source": [
    "# checking for missing values in the dataset\n",
    "data.isnull().sum()"
   ]
  },
  {
   "cell_type": "markdown",
   "metadata": {},
   "source": [
    "There are missing values in customerDOB, Gender, Location and AcntBalance columns. lets see how we can handle them."
   ]
  },
  {
   "cell_type": "code",
   "execution_count": 226,
   "metadata": {},
   "outputs": [
    {
     "name": "stdout",
     "output_type": "stream",
     "text": [
      "0.32\n",
      "0.1\n",
      "0.01\n",
      "0.23\n"
     ]
    }
   ],
   "source": [
    "missing_counts = [3397,1100,151,2369]\n",
    "for count in missing_counts:\n",
    "    print(round((count/data.shape[0])*100,2))"
   ]
  },
  {
   "cell_type": "markdown",
   "metadata": {},
   "source": [
    "As the values are very small percentage of the data. By removing them, don't have any significiant impact on the analysis."
   ]
  },
  {
   "cell_type": "code",
   "execution_count": 227,
   "metadata": {},
   "outputs": [],
   "source": [
    "# dropping the rows with missing values \n",
    "data.dropna(inplace=True)"
   ]
  },
  {
   "cell_type": "code",
   "execution_count": 228,
   "metadata": {},
   "outputs": [
    {
     "data": {
      "text/plain": [
       "TransactionID              0\n",
       "CustomerID                 0\n",
       "CustomerDOB                0\n",
       "CustGender                 0\n",
       "CustLocation               0\n",
       "CustAccountBalance         0\n",
       "TransactionDate            0\n",
       "TransactionTime            0\n",
       "TransactionAmount (INR)    0\n",
       "dtype: int64"
      ]
     },
     "execution_count": 228,
     "metadata": {},
     "output_type": "execute_result"
    }
   ],
   "source": [
    "data.isnull().sum()"
   ]
  },
  {
   "cell_type": "code",
   "execution_count": 229,
   "metadata": {},
   "outputs": [
    {
     "data": {
      "text/plain": [
       "TransactionID               object\n",
       "CustomerID                  object\n",
       "CustomerDOB                 object\n",
       "CustGender                  object\n",
       "CustLocation                object\n",
       "CustAccountBalance         float64\n",
       "TransactionDate             object\n",
       "TransactionTime              int64\n",
       "TransactionAmount (INR)    float64\n",
       "dtype: object"
      ]
     },
     "execution_count": 229,
     "metadata": {},
     "output_type": "execute_result"
    }
   ],
   "source": [
    "# checking that dtypes are valid or not\n",
    "data.dtypes"
   ]
  },
  {
   "cell_type": "markdown",
   "metadata": {},
   "source": [
    "CustomerDOB and TransactionDate need be converted to date datatype\n"
   ]
  },
  {
   "cell_type": "code",
   "execution_count": 230,
   "metadata": {},
   "outputs": [
    {
     "data": {
      "text/plain": [
       "0           10/1/94\n",
       "1            4/4/57\n",
       "2          26/11/96\n",
       "3           14/9/73\n",
       "4           24/3/88\n",
       "             ...   \n",
       "1048562      8/4/90\n",
       "1048563     20/2/92\n",
       "1048564     18/5/89\n",
       "1048565     30/8/78\n",
       "1048566      5/3/84\n",
       "Name: CustomerDOB, Length: 1041614, dtype: object"
      ]
     },
     "execution_count": 230,
     "metadata": {},
     "output_type": "execute_result"
    }
   ],
   "source": [
    "data['CustomerDOB']"
   ]
  },
  {
   "cell_type": "code",
   "execution_count": 231,
   "metadata": {},
   "outputs": [
    {
     "data": {
      "text/plain": [
       "0         1994-01-10\n",
       "1         2057-04-04\n",
       "2         1996-11-26\n",
       "3         1973-09-14\n",
       "4         1988-03-24\n",
       "             ...    \n",
       "1048562   1990-04-08\n",
       "1048563   1992-02-20\n",
       "1048564   1989-05-18\n",
       "1048565   1978-08-30\n",
       "1048566   1984-03-05\n",
       "Name: CustomerDOB, Length: 1041614, dtype: datetime64[ns]"
      ]
     },
     "execution_count": 231,
     "metadata": {},
     "output_type": "execute_result"
    }
   ],
   "source": [
    "# Converting the CustomerDOB dtype but not assigning it back \n",
    "pd.to_datetime(data['CustomerDOB'], format='%d/%m/%y',errors='coerce')"
   ]
  },
  {
   "cell_type": "markdown",
   "metadata": {},
   "source": [
    "There is a issue with date format being interpreted as '2057' instead of '1957' is due to the default behavior of the pd.to_datetime() function. By default, when you parse two-digit years, Pandas assumes that years less than 69 are in the 2000s, and years greater than or equal to 69 are in the 1900s. This is known as the \"2069 cutoff.\"  \n",
    "To correctly interpret years in the \"dd/mm/yy\" format as '1957' for '4/4/57', we can set a custom \"century pivot\" using the datetime.datetime.strptime method."
   ]
  },
  {
   "cell_type": "code",
   "execution_count": 232,
   "metadata": {},
   "outputs": [],
   "source": [
    "from datetime import datetime\n",
    "\n",
    "# Function to convert years into the correct format\n",
    "def parse_date(date_str):\n",
    "    try:\n",
    "        # Attempt to parse the date in 'dd/mm/yy' format\n",
    "        date = datetime.strptime(date_str, '%d/%m/%y')\n",
    "    except ValueError:\n",
    "        # Date in customerDOB is in two different formats\n",
    "        try:\n",
    "            # If that fails, attempt to parse it in 'dd/mm/yyyy' format\n",
    "            date = datetime.strptime(date_str, '%d/%m/%Y')\n",
    "        except ValueError:\n",
    "            return None  # Return None if both formats fail\n",
    "    # Adjust the year based on the century pivot\n",
    "    if date.year > 2017:\n",
    "        return date.replace(year=date.year - 100)\n",
    "    return date\n",
    "\n",
    "# Applying the function to the 'CustomerDOB' column\n",
    "data['CustomerDOB'] = data['CustomerDOB'].apply(parse_date)"
   ]
  },
  {
   "cell_type": "code",
   "execution_count": 233,
   "metadata": {},
   "outputs": [
    {
     "data": {
      "text/plain": [
       "Series([], Name: CustomerID, dtype: object)"
      ]
     },
     "execution_count": 233,
     "metadata": {},
     "output_type": "execute_result"
    }
   ],
   "source": [
    "data[data['CustomerDOB']=='Nan']['CustomerID']"
   ]
  },
  {
   "cell_type": "code",
   "execution_count": 234,
   "metadata": {},
   "outputs": [
    {
     "data": {
      "text/plain": [
       "0         1994-01-10\n",
       "1         1957-04-04\n",
       "2         1996-11-26\n",
       "3         1973-09-14\n",
       "4         1988-03-24\n",
       "             ...    \n",
       "1048562   1990-04-08\n",
       "1048563   1992-02-20\n",
       "1048564   1989-05-18\n",
       "1048565   1978-08-30\n",
       "1048566   1984-03-05\n",
       "Name: CustomerDOB, Length: 1041614, dtype: datetime64[ns]"
      ]
     },
     "execution_count": 234,
     "metadata": {},
     "output_type": "execute_result"
    }
   ],
   "source": [
    "data['CustomerDOB']"
   ]
  },
  {
   "cell_type": "markdown",
   "metadata": {},
   "source": [
    "CustomerDOB dtype is converted succesfully with precise year."
   ]
  },
  {
   "cell_type": "code",
   "execution_count": 235,
   "metadata": {},
   "outputs": [
    {
     "data": {
      "text/plain": [
       "0         2016-08-02\n",
       "1         2016-08-02\n",
       "2         2016-08-02\n",
       "3         2016-08-02\n",
       "4         2016-08-02\n",
       "             ...    \n",
       "1048562   2016-09-18\n",
       "1048563   2016-09-18\n",
       "1048564   2016-09-18\n",
       "1048565   2016-09-18\n",
       "1048566   2016-09-18\n",
       "Name: TransactionDate, Length: 1041614, dtype: datetime64[ns]"
      ]
     },
     "execution_count": 235,
     "metadata": {},
     "output_type": "execute_result"
    }
   ],
   "source": [
    "data['TransactionDate'] = pd.to_datetime(data['TransactionDate'], format='%d/%m/%y',errors='coerce')\n",
    "data['TransactionDate']"
   ]
  },
  {
   "cell_type": "code",
   "execution_count": 236,
   "metadata": {},
   "outputs": [
    {
     "data": {
      "text/plain": [
       "TransactionID                      object\n",
       "CustomerID                         object\n",
       "CustomerDOB                datetime64[ns]\n",
       "CustGender                         object\n",
       "CustLocation                       object\n",
       "CustAccountBalance                float64\n",
       "TransactionDate            datetime64[ns]\n",
       "TransactionTime                     int64\n",
       "TransactionAmount (INR)           float64\n",
       "dtype: object"
      ]
     },
     "execution_count": 236,
     "metadata": {},
     "output_type": "execute_result"
    }
   ],
   "source": [
    "data.dtypes"
   ]
  },
  {
   "cell_type": "markdown",
   "metadata": {},
   "source": [
    "Let's perform demographic customerSegmentation based on gender and age. As there is no age column, we'll create it from customerDOB. "
   ]
  },
  {
   "cell_type": "code",
   "execution_count": 237,
   "metadata": {},
   "outputs": [],
   "source": [
    "# lets assume today as jan2017 as the data is of 2016\n",
    "today = pd.Timestamp('2017-01-01')\n",
    "data['Age'] = (today - data['CustomerDOB']).apply(lambda x: x.days // 365)"
   ]
  },
  {
   "cell_type": "code",
   "execution_count": 238,
   "metadata": {},
   "outputs": [],
   "source": [
    "data['AgeGroup'] = ['Young' if age <= 20 else 'Middle-Age' if 20 < age <= 40 else 'Elderly' for age in data['Age']]"
   ]
  },
  {
   "cell_type": "code",
   "execution_count": 239,
   "metadata": {},
   "outputs": [
    {
     "data": {
      "text/html": [
       "<div>\n",
       "<style scoped>\n",
       "    .dataframe tbody tr th:only-of-type {\n",
       "        vertical-align: middle;\n",
       "    }\n",
       "\n",
       "    .dataframe tbody tr th {\n",
       "        vertical-align: top;\n",
       "    }\n",
       "\n",
       "    .dataframe thead th {\n",
       "        text-align: right;\n",
       "    }\n",
       "</style>\n",
       "<table border=\"1\" class=\"dataframe\">\n",
       "  <thead>\n",
       "    <tr style=\"text-align: right;\">\n",
       "      <th></th>\n",
       "      <th>TransactionID</th>\n",
       "      <th>CustomerID</th>\n",
       "      <th>CustomerDOB</th>\n",
       "      <th>CustGender</th>\n",
       "      <th>CustLocation</th>\n",
       "      <th>CustAccountBalance</th>\n",
       "      <th>TransactionDate</th>\n",
       "      <th>TransactionTime</th>\n",
       "      <th>TransactionAmount (INR)</th>\n",
       "      <th>Age</th>\n",
       "      <th>AgeGroup</th>\n",
       "    </tr>\n",
       "  </thead>\n",
       "  <tbody>\n",
       "    <tr>\n",
       "      <th>0</th>\n",
       "      <td>T1</td>\n",
       "      <td>C5841053</td>\n",
       "      <td>1994-01-10</td>\n",
       "      <td>F</td>\n",
       "      <td>JAMSHEDPUR</td>\n",
       "      <td>17819.05</td>\n",
       "      <td>2016-08-02</td>\n",
       "      <td>143207</td>\n",
       "      <td>25.0</td>\n",
       "      <td>22</td>\n",
       "      <td>Middle-Age</td>\n",
       "    </tr>\n",
       "    <tr>\n",
       "      <th>1</th>\n",
       "      <td>T2</td>\n",
       "      <td>C2142763</td>\n",
       "      <td>1957-04-04</td>\n",
       "      <td>M</td>\n",
       "      <td>JHAJJAR</td>\n",
       "      <td>2270.69</td>\n",
       "      <td>2016-08-02</td>\n",
       "      <td>141858</td>\n",
       "      <td>27999.0</td>\n",
       "      <td>59</td>\n",
       "      <td>Elderly</td>\n",
       "    </tr>\n",
       "    <tr>\n",
       "      <th>2</th>\n",
       "      <td>T3</td>\n",
       "      <td>C4417068</td>\n",
       "      <td>1996-11-26</td>\n",
       "      <td>F</td>\n",
       "      <td>MUMBAI</td>\n",
       "      <td>17874.44</td>\n",
       "      <td>2016-08-02</td>\n",
       "      <td>142712</td>\n",
       "      <td>459.0</td>\n",
       "      <td>20</td>\n",
       "      <td>Young</td>\n",
       "    </tr>\n",
       "    <tr>\n",
       "      <th>3</th>\n",
       "      <td>T4</td>\n",
       "      <td>C5342380</td>\n",
       "      <td>1973-09-14</td>\n",
       "      <td>F</td>\n",
       "      <td>MUMBAI</td>\n",
       "      <td>866503.21</td>\n",
       "      <td>2016-08-02</td>\n",
       "      <td>142714</td>\n",
       "      <td>2060.0</td>\n",
       "      <td>43</td>\n",
       "      <td>Elderly</td>\n",
       "    </tr>\n",
       "    <tr>\n",
       "      <th>4</th>\n",
       "      <td>T5</td>\n",
       "      <td>C9031234</td>\n",
       "      <td>1988-03-24</td>\n",
       "      <td>F</td>\n",
       "      <td>NAVI MUMBAI</td>\n",
       "      <td>6714.43</td>\n",
       "      <td>2016-08-02</td>\n",
       "      <td>181156</td>\n",
       "      <td>1762.5</td>\n",
       "      <td>28</td>\n",
       "      <td>Middle-Age</td>\n",
       "    </tr>\n",
       "  </tbody>\n",
       "</table>\n",
       "</div>"
      ],
      "text/plain": [
       "  TransactionID CustomerID CustomerDOB CustGender CustLocation  \\\n",
       "0            T1   C5841053  1994-01-10          F   JAMSHEDPUR   \n",
       "1            T2   C2142763  1957-04-04          M      JHAJJAR   \n",
       "2            T3   C4417068  1996-11-26          F       MUMBAI   \n",
       "3            T4   C5342380  1973-09-14          F       MUMBAI   \n",
       "4            T5   C9031234  1988-03-24          F  NAVI MUMBAI   \n",
       "\n",
       "   CustAccountBalance TransactionDate  TransactionTime  \\\n",
       "0            17819.05      2016-08-02           143207   \n",
       "1             2270.69      2016-08-02           141858   \n",
       "2            17874.44      2016-08-02           142712   \n",
       "3           866503.21      2016-08-02           142714   \n",
       "4             6714.43      2016-08-02           181156   \n",
       "\n",
       "   TransactionAmount (INR)  Age    AgeGroup  \n",
       "0                     25.0   22  Middle-Age  \n",
       "1                  27999.0   59     Elderly  \n",
       "2                    459.0   20       Young  \n",
       "3                   2060.0   43     Elderly  \n",
       "4                   1762.5   28  Middle-Age  "
      ]
     },
     "execution_count": 239,
     "metadata": {},
     "output_type": "execute_result"
    }
   ],
   "source": [
    "data.head()"
   ]
  },
  {
   "cell_type": "code",
   "execution_count": 240,
   "metadata": {},
   "outputs": [],
   "source": [
    "# saving cleaned csv\n",
    "data.to_csv('cleaned_data.csv', index=False)"
   ]
  },
  {
   "cell_type": "code",
   "execution_count": 241,
   "metadata": {},
   "outputs": [
    {
     "data": {
      "text/plain": [
       "TransactionID              0\n",
       "CustomerID                 0\n",
       "CustomerDOB                0\n",
       "CustGender                 0\n",
       "CustLocation               0\n",
       "CustAccountBalance         0\n",
       "TransactionDate            0\n",
       "TransactionTime            0\n",
       "TransactionAmount (INR)    0\n",
       "Age                        0\n",
       "AgeGroup                   0\n",
       "dtype: int64"
      ]
     },
     "execution_count": 241,
     "metadata": {},
     "output_type": "execute_result"
    }
   ],
   "source": [
    "data.isnull().sum()"
   ]
  },
  {
   "cell_type": "code",
   "execution_count": 242,
   "metadata": {},
   "outputs": [],
   "source": [
    "data2 = data.groupby(['CustGender','AgeGroup'])['TransactionID'].count().reset_index()"
   ]
  },
  {
   "cell_type": "code",
   "execution_count": 243,
   "metadata": {},
   "outputs": [
    {
     "data": {
      "text/html": [
       "<div>\n",
       "<style scoped>\n",
       "    .dataframe tbody tr th:only-of-type {\n",
       "        vertical-align: middle;\n",
       "    }\n",
       "\n",
       "    .dataframe tbody tr th {\n",
       "        vertical-align: top;\n",
       "    }\n",
       "\n",
       "    .dataframe thead th {\n",
       "        text-align: right;\n",
       "    }\n",
       "</style>\n",
       "<table border=\"1\" class=\"dataframe\">\n",
       "  <thead>\n",
       "    <tr style=\"text-align: right;\">\n",
       "      <th></th>\n",
       "      <th>CustGender</th>\n",
       "      <th>AgeGroup</th>\n",
       "      <th>TransactionID</th>\n",
       "    </tr>\n",
       "  </thead>\n",
       "  <tbody>\n",
       "    <tr>\n",
       "      <th>0</th>\n",
       "      <td>F</td>\n",
       "      <td>Elderly</td>\n",
       "      <td>39553</td>\n",
       "    </tr>\n",
       "    <tr>\n",
       "      <th>1</th>\n",
       "      <td>F</td>\n",
       "      <td>Middle-Age</td>\n",
       "      <td>235433</td>\n",
       "    </tr>\n",
       "    <tr>\n",
       "      <th>2</th>\n",
       "      <td>F</td>\n",
       "      <td>Young</td>\n",
       "      <td>5649</td>\n",
       "    </tr>\n",
       "    <tr>\n",
       "      <th>3</th>\n",
       "      <td>M</td>\n",
       "      <td>Elderly</td>\n",
       "      <td>134544</td>\n",
       "    </tr>\n",
       "    <tr>\n",
       "      <th>4</th>\n",
       "      <td>M</td>\n",
       "      <td>Middle-Age</td>\n",
       "      <td>609527</td>\n",
       "    </tr>\n",
       "    <tr>\n",
       "      <th>5</th>\n",
       "      <td>M</td>\n",
       "      <td>Young</td>\n",
       "      <td>16907</td>\n",
       "    </tr>\n",
       "    <tr>\n",
       "      <th>6</th>\n",
       "      <td>T</td>\n",
       "      <td>Elderly</td>\n",
       "      <td>1</td>\n",
       "    </tr>\n",
       "  </tbody>\n",
       "</table>\n",
       "</div>"
      ],
      "text/plain": [
       "  CustGender    AgeGroup  TransactionID\n",
       "0          F     Elderly          39553\n",
       "1          F  Middle-Age         235433\n",
       "2          F       Young           5649\n",
       "3          M     Elderly         134544\n",
       "4          M  Middle-Age         609527\n",
       "5          M       Young          16907\n",
       "6          T     Elderly              1"
      ]
     },
     "execution_count": 243,
     "metadata": {},
     "output_type": "execute_result"
    }
   ],
   "source": [
    "data2"
   ]
  },
  {
   "cell_type": "code",
   "execution_count": 244,
   "metadata": {},
   "outputs": [
    {
     "data": {
      "text/html": [
       "<div>\n",
       "<style scoped>\n",
       "    .dataframe tbody tr th:only-of-type {\n",
       "        vertical-align: middle;\n",
       "    }\n",
       "\n",
       "    .dataframe tbody tr th {\n",
       "        vertical-align: top;\n",
       "    }\n",
       "\n",
       "    .dataframe thead th {\n",
       "        text-align: right;\n",
       "    }\n",
       "</style>\n",
       "<table border=\"1\" class=\"dataframe\">\n",
       "  <thead>\n",
       "    <tr style=\"text-align: right;\">\n",
       "      <th></th>\n",
       "      <th>CustGender</th>\n",
       "      <th>AgeGroup</th>\n",
       "      <th>TransactionID</th>\n",
       "    </tr>\n",
       "  </thead>\n",
       "  <tbody>\n",
       "    <tr>\n",
       "      <th>0</th>\n",
       "      <td>F</td>\n",
       "      <td>Elderly</td>\n",
       "      <td>39553</td>\n",
       "    </tr>\n",
       "    <tr>\n",
       "      <th>1</th>\n",
       "      <td>F</td>\n",
       "      <td>Middle-Age</td>\n",
       "      <td>235433</td>\n",
       "    </tr>\n",
       "    <tr>\n",
       "      <th>2</th>\n",
       "      <td>F</td>\n",
       "      <td>Young</td>\n",
       "      <td>5649</td>\n",
       "    </tr>\n",
       "    <tr>\n",
       "      <th>3</th>\n",
       "      <td>M</td>\n",
       "      <td>Elderly</td>\n",
       "      <td>134544</td>\n",
       "    </tr>\n",
       "    <tr>\n",
       "      <th>4</th>\n",
       "      <td>M</td>\n",
       "      <td>Middle-Age</td>\n",
       "      <td>609527</td>\n",
       "    </tr>\n",
       "    <tr>\n",
       "      <th>5</th>\n",
       "      <td>M</td>\n",
       "      <td>Young</td>\n",
       "      <td>16907</td>\n",
       "    </tr>\n",
       "    <tr>\n",
       "      <th>6</th>\n",
       "      <td>T</td>\n",
       "      <td>Elderly</td>\n",
       "      <td>1</td>\n",
       "    </tr>\n",
       "  </tbody>\n",
       "</table>\n",
       "</div>"
      ],
      "text/plain": [
       "  CustGender    AgeGroup  TransactionID\n",
       "0          F     Elderly          39553\n",
       "1          F  Middle-Age         235433\n",
       "2          F       Young           5649\n",
       "3          M     Elderly         134544\n",
       "4          M  Middle-Age         609527\n",
       "5          M       Young          16907\n",
       "6          T     Elderly              1"
      ]
     },
     "execution_count": 244,
     "metadata": {},
     "output_type": "execute_result"
    }
   ],
   "source": [
    "data2 = data2[data2['TransactionID']!=0]\n",
    "data2"
   ]
  },
  {
   "cell_type": "code",
   "execution_count": 245,
   "metadata": {},
   "outputs": [
    {
     "data": {
      "image/png": "[encoded data removed]",
      "text/plain": [
       "<Figure size 800x400 with 1 Axes>"
      ]
     },
     "metadata": {},
     "output_type": "display_data"
    }
   ],
   "source": [
    "import matplotlib.pyplot as plt\n",
    "\n",
    "# Convert 'CustGender' and 'AgeGroup' columns to strings\n",
    "labels = (data2['CustGender'].astype(str) + '_' + data2['AgeGroup'].astype(str))\n",
    "explode = (0.2,0.1,0.2,0,0.1,0,0.3)\n",
    "\n",
    "# Create the bar plot\n",
    "plt.figure(figsize=(8,4))\n",
    "plt.pie(data2['TransactionID'],explode= explode,autopct ='%1.1f%%',\n",
    "        wedgeprops={\"edgecolor\":\"k\",'linewidth': 0.5,'linestyle': '-'})\n",
    "plt.legend(labels)\n",
    "plt.title('Pie Chart showing transactions based on age and gender')\n",
    "plt.axis('equal')\n",
    "plt.show()"
   ]
  },
  {
   "cell_type": "markdown",
   "metadata": {},
   "source": [
    "The Pie Chart indicates that the age group between 20 and 40 years old made more transactions and the number of transactions by males is noticeably higher than that by females."
   ]
  },
  {
   "cell_type": "markdown",
   "metadata": {},
   "source": [
    "Let's perform Location-wise analysis to identify regional trends."
   ]
  },
  {
   "cell_type": "code",
   "execution_count": 246,
   "metadata": {},
   "outputs": [
    {
     "data": {
      "text/html": [
       "<div>\n",
       "<style scoped>\n",
       "    .dataframe tbody tr th:only-of-type {\n",
       "        vertical-align: middle;\n",
       "    }\n",
       "\n",
       "    .dataframe tbody tr th {\n",
       "        vertical-align: top;\n",
       "    }\n",
       "\n",
       "    .dataframe thead th {\n",
       "        text-align: right;\n",
       "    }\n",
       "</style>\n",
       "<table border=\"1\" class=\"dataframe\">\n",
       "  <thead>\n",
       "    <tr style=\"text-align: right;\">\n",
       "      <th></th>\n",
       "      <th>Location</th>\n",
       "      <th>CustomerCount</th>\n",
       "      <th>AverageBalance</th>\n",
       "      <th>TotalTransactionAmount</th>\n",
       "      <th>TransactionCount</th>\n",
       "    </tr>\n",
       "  </thead>\n",
       "  <tbody>\n",
       "    <tr>\n",
       "      <th>0</th>\n",
       "      <td>(154) BHASKOLA FARIDABAD</td>\n",
       "      <td>11</td>\n",
       "      <td>49388.09</td>\n",
       "      <td>5940.35</td>\n",
       "      <td>11</td>\n",
       "    </tr>\n",
       "    <tr>\n",
       "      <th>1</th>\n",
       "      <td>(BEFORE YMCA BLDG) CHENNAI</td>\n",
       "      <td>1</td>\n",
       "      <td>659.33</td>\n",
       "      <td>1200.00</td>\n",
       "      <td>1</td>\n",
       "    </tr>\n",
       "    <tr>\n",
       "      <th>2</th>\n",
       "      <td>(BENAKA MDTS) BANGALORE</td>\n",
       "      <td>20</td>\n",
       "      <td>57.24</td>\n",
       "      <td>3442.05</td>\n",
       "      <td>21</td>\n",
       "    </tr>\n",
       "    <tr>\n",
       "      <th>3</th>\n",
       "      <td>(BRINDA BAN ) KOLKATA</td>\n",
       "      <td>5</td>\n",
       "      <td>7967.89</td>\n",
       "      <td>3143.00</td>\n",
       "      <td>5</td>\n",
       "    </tr>\n",
       "    <tr>\n",
       "      <th>4</th>\n",
       "      <td>(DT) HOSUR</td>\n",
       "      <td>11</td>\n",
       "      <td>6134.27</td>\n",
       "      <td>15380.11</td>\n",
       "      <td>11</td>\n",
       "    </tr>\n",
       "    <tr>\n",
       "      <th>...</th>\n",
       "      <td>...</td>\n",
       "      <td>...</td>\n",
       "      <td>...</td>\n",
       "      <td>...</td>\n",
       "      <td>...</td>\n",
       "    </tr>\n",
       "    <tr>\n",
       "      <th>9270</th>\n",
       "      <td>ZONE WHITEFIELD BANGALORE</td>\n",
       "      <td>40</td>\n",
       "      <td>36724.28</td>\n",
       "      <td>96773.57</td>\n",
       "      <td>41</td>\n",
       "    </tr>\n",
       "    <tr>\n",
       "      <th>9271</th>\n",
       "      <td>ZOPADPATTI TEHSIL KURLA MUMBAI</td>\n",
       "      <td>1</td>\n",
       "      <td>28983.98</td>\n",
       "      <td>7990.00</td>\n",
       "      <td>1</td>\n",
       "    </tr>\n",
       "    <tr>\n",
       "      <th>9272</th>\n",
       "      <td>ZUARINAGAR</td>\n",
       "      <td>6</td>\n",
       "      <td>17338.82</td>\n",
       "      <td>6088.86</td>\n",
       "      <td>6</td>\n",
       "    </tr>\n",
       "    <tr>\n",
       "      <th>9273</th>\n",
       "      <td>ZUMARI TILAIYA</td>\n",
       "      <td>9</td>\n",
       "      <td>1046346.96</td>\n",
       "      <td>8450.02</td>\n",
       "      <td>9</td>\n",
       "    </tr>\n",
       "    <tr>\n",
       "      <th>9274</th>\n",
       "      <td>ZUNHEBOTO</td>\n",
       "      <td>1</td>\n",
       "      <td>37226.97</td>\n",
       "      <td>3756.00</td>\n",
       "      <td>1</td>\n",
       "    </tr>\n",
       "  </tbody>\n",
       "</table>\n",
       "<p>9275 rows × 5 columns</p>\n",
       "</div>"
      ],
      "text/plain": [
       "                            Location  CustomerCount  AverageBalance  \\\n",
       "0           (154) BHASKOLA FARIDABAD             11        49388.09   \n",
       "1         (BEFORE YMCA BLDG) CHENNAI              1          659.33   \n",
       "2            (BENAKA MDTS) BANGALORE             20           57.24   \n",
       "3              (BRINDA BAN ) KOLKATA              5         7967.89   \n",
       "4                         (DT) HOSUR             11         6134.27   \n",
       "...                              ...            ...             ...   \n",
       "9270       ZONE WHITEFIELD BANGALORE             40        36724.28   \n",
       "9271  ZOPADPATTI TEHSIL KURLA MUMBAI              1        28983.98   \n",
       "9272                      ZUARINAGAR              6        17338.82   \n",
       "9273                  ZUMARI TILAIYA              9      1046346.96   \n",
       "9274                       ZUNHEBOTO              1        37226.97   \n",
       "\n",
       "      TotalTransactionAmount  TransactionCount  \n",
       "0                    5940.35                11  \n",
       "1                    1200.00                 1  \n",
       "2                    3442.05                21  \n",
       "3                    3143.00                 5  \n",
       "4                   15380.11                11  \n",
       "...                      ...               ...  \n",
       "9270                96773.57                41  \n",
       "9271                 7990.00                 1  \n",
       "9272                 6088.86                 6  \n",
       "9273                 8450.02                 9  \n",
       "9274                 3756.00                 1  \n",
       "\n",
       "[9275 rows x 5 columns]"
      ]
     },
     "execution_count": 246,
     "metadata": {},
     "output_type": "execute_result"
    }
   ],
   "source": [
    "# Grouping the data by location \n",
    "location_grouped = data.groupby('CustLocation')\n",
    "\n",
    "# creating dataframe with aggregated statistics\n",
    "location_stats = location_grouped.agg({\n",
    "    'CustomerID': 'nunique',  # Count unique Customer IDs\n",
    "    'CustAccountBalance': 'mean',\n",
    "    'TransactionAmount (INR)': 'sum',\n",
    "    'TransactionID': 'count'  # Count the total number of transactions\n",
    "}).reset_index()\n",
    "location_stats.columns = ['Location', 'CustomerCount', 'AverageBalance', 'TotalTransactionAmount', 'TransactionCount']\n",
    "location_stats\n"
   ]
  },
  {
   "cell_type": "code",
   "execution_count": 247,
   "metadata": {},
   "outputs": [
    {
     "data": {
      "image/png": "[encoded data removed]",
      "text/plain": [
       "<Figure size 1200x600 with 1 Axes>"
      ]
     },
     "metadata": {},
     "output_type": "display_data"
    }
   ],
   "source": [
    "# Selecting the top N locations based on transaction amount(e.g., top 10)\n",
    "top_locations_amount = location_stats.sort_values(by='TotalTransactionAmount', ascending=False).head(10)\n",
    "\n",
    "# Creating a bar chart for the top locations\n",
    "plt.figure(figsize=(12, 6))\n",
    "bars = plt.bar(top_locations_amount['Location'], top_locations_amount['TotalTransactionAmount'])\n",
    "plt.xlabel('Location')\n",
    "plt.ylabel('Total Transaction Amount (INR)')\n",
    "plt.title('Top 10 Locations by Total Transaction Amount')\n",
    "plt.xticks(rotation=40)  # Rotate x-axis labels for better readability\n",
    "\n",
    "plt.show()\n",
    "\n"
   ]
  },
  {
   "cell_type": "markdown",
   "metadata": {},
   "source": [
    "Mumbai, Delhi, and Bangalore appear to be the locations with the highest transaction amounts. To understand the reason behind this, we need to determine whether it's because these locations have more customers or because there are more transactions originating from these places."
   ]
  },
  {
   "cell_type": "code",
   "execution_count": 248,
   "metadata": {},
   "outputs": [
    {
     "data": {
      "image/png": "[encoded data removed]",
      "text/plain": [
       "<Figure size 1200x600 with 1 Axes>"
      ]
     },
     "metadata": {},
     "output_type": "display_data"
    }
   ],
   "source": [
    "# Selecting the top N locations based on number of customers (e.g., top 10)\n",
    "top_locations_customers = location_stats.sort_values(by='CustomerCount', ascending=False).head(10)\n",
    "\n",
    "# Creating a bar chart for the top locations\n",
    "plt.figure(figsize=(12, 6))\n",
    "bars = plt.bar(top_locations_customers['Location'], top_locations_customers['CustomerCount'])\n",
    "plt.xlabel('Location (CustLocation)')\n",
    "plt.ylabel('Total Number of Customers')\n",
    "plt.title('Top 10 Locations by Number of Customers')\n",
    "plt.xticks(rotation=40)  # Rotate x-axis labels for better readability\n",
    "\n",
    "plt.show()"
   ]
  },
  {
   "cell_type": "code",
   "execution_count": 249,
   "metadata": {},
   "outputs": [
    {
     "data": {
      "text/html": [
       "<div>\n",
       "<style scoped>\n",
       "    .dataframe tbody tr th:only-of-type {\n",
       "        vertical-align: middle;\n",
       "    }\n",
       "\n",
       "    .dataframe tbody tr th {\n",
       "        vertical-align: top;\n",
       "    }\n",
       "\n",
       "    .dataframe thead th {\n",
       "        text-align: right;\n",
       "    }\n",
       "</style>\n",
       "<table border=\"1\" class=\"dataframe\">\n",
       "  <thead>\n",
       "    <tr style=\"text-align: right;\">\n",
       "      <th></th>\n",
       "      <th>Location</th>\n",
       "      <th>CustomerCount</th>\n",
       "      <th>AverageBalance</th>\n",
       "      <th>TotalTransactionAmount</th>\n",
       "      <th>TransactionCount</th>\n",
       "    </tr>\n",
       "  </thead>\n",
       "  <tbody>\n",
       "    <tr>\n",
       "      <th>5219</th>\n",
       "      <td>MUMBAI</td>\n",
       "      <td>100198</td>\n",
       "      <td>154281.864562</td>\n",
       "      <td>1.747338e+08</td>\n",
       "      <td>101997</td>\n",
       "    </tr>\n",
       "    <tr>\n",
       "      <th>5738</th>\n",
       "      <td>NEW DELHI</td>\n",
       "      <td>82811</td>\n",
       "      <td>192450.453458</td>\n",
       "      <td>1.584735e+08</td>\n",
       "      <td>84143</td>\n",
       "    </tr>\n",
       "    <tr>\n",
       "      <th>770</th>\n",
       "      <td>BANGALORE</td>\n",
       "      <td>80128</td>\n",
       "      <td>102518.067872</td>\n",
       "      <td>1.174852e+08</td>\n",
       "      <td>81330</td>\n",
       "    </tr>\n",
       "    <tr>\n",
       "      <th>3058</th>\n",
       "      <td>GURGAON</td>\n",
       "      <td>72637</td>\n",
       "      <td>177232.125498</td>\n",
       "      <td>1.114485e+08</td>\n",
       "      <td>73594</td>\n",
       "    </tr>\n",
       "    <tr>\n",
       "      <th>2055</th>\n",
       "      <td>DELHI</td>\n",
       "      <td>69611</td>\n",
       "      <td>107557.075197</td>\n",
       "      <td>1.051617e+08</td>\n",
       "      <td>70549</td>\n",
       "    </tr>\n",
       "    <tr>\n",
       "      <th>5833</th>\n",
       "      <td>NOIDA</td>\n",
       "      <td>32443</td>\n",
       "      <td>110244.372042</td>\n",
       "      <td>4.424702e+07</td>\n",
       "      <td>32656</td>\n",
       "    </tr>\n",
       "    <tr>\n",
       "      <th>1591</th>\n",
       "      <td>CHENNAI</td>\n",
       "      <td>29654</td>\n",
       "      <td>89530.634858</td>\n",
       "      <td>4.427020e+07</td>\n",
       "      <td>29840</td>\n",
       "    </tr>\n",
       "    <tr>\n",
       "      <th>6656</th>\n",
       "      <td>PUNE</td>\n",
       "      <td>25550</td>\n",
       "      <td>98689.569965</td>\n",
       "      <td>3.906549e+07</td>\n",
       "      <td>25690</td>\n",
       "    </tr>\n",
       "    <tr>\n",
       "      <th>3367</th>\n",
       "      <td>HYDERABAD</td>\n",
       "      <td>22857</td>\n",
       "      <td>130806.950079</td>\n",
       "      <td>3.597353e+07</td>\n",
       "      <td>22976</td>\n",
       "    </tr>\n",
       "    <tr>\n",
       "      <th>8310</th>\n",
       "      <td>THANE</td>\n",
       "      <td>21297</td>\n",
       "      <td>66744.825912</td>\n",
       "      <td>2.698865e+07</td>\n",
       "      <td>21397</td>\n",
       "    </tr>\n",
       "  </tbody>\n",
       "</table>\n",
       "</div>"
      ],
      "text/plain": [
       "       Location  CustomerCount  AverageBalance  TotalTransactionAmount  \\\n",
       "5219     MUMBAI         100198   154281.864562            1.747338e+08   \n",
       "5738  NEW DELHI          82811   192450.453458            1.584735e+08   \n",
       "770   BANGALORE          80128   102518.067872            1.174852e+08   \n",
       "3058    GURGAON          72637   177232.125498            1.114485e+08   \n",
       "2055      DELHI          69611   107557.075197            1.051617e+08   \n",
       "5833      NOIDA          32443   110244.372042            4.424702e+07   \n",
       "1591    CHENNAI          29654    89530.634858            4.427020e+07   \n",
       "6656       PUNE          25550    98689.569965            3.906549e+07   \n",
       "3367  HYDERABAD          22857   130806.950079            3.597353e+07   \n",
       "8310      THANE          21297    66744.825912            2.698865e+07   \n",
       "\n",
       "      TransactionCount  \n",
       "5219            101997  \n",
       "5738             84143  \n",
       "770              81330  \n",
       "3058             73594  \n",
       "2055             70549  \n",
       "5833             32656  \n",
       "1591             29840  \n",
       "6656             25690  \n",
       "3367             22976  \n",
       "8310             21397  "
      ]
     },
     "execution_count": 249,
     "metadata": {},
     "output_type": "execute_result"
    }
   ],
   "source": [
    "top_locations = location_stats.sort_values(by='TransactionCount', ascending=False).head(10)\n",
    "top_locations"
   ]
  },
  {
   "cell_type": "code",
   "execution_count": 250,
   "metadata": {},
   "outputs": [
    {
     "data": {
      "image/png": "[encoded data removed]",
      "text/plain": [
       "<Figure size 1200x600 with 1 Axes>"
      ]
     },
     "metadata": {},
     "output_type": "display_data"
    }
   ],
   "source": [
    "# Selecting the top N locations based on number of transactions (e.g., top 10)\n",
    "top_locations = location_stats.sort_values(by='TransactionCount', ascending=False).head(10)\n",
    "\n",
    "# Creating a bar chart for the top locations\n",
    "plt.figure(figsize=(12, 6))\n",
    "bars = plt.bar(top_locations['Location'], top_locations['TransactionCount'])\n",
    "plt.xlabel('Location (CustLocation)')\n",
    "plt.ylabel('Total Number of Transactions')\n",
    "plt.title('Top 10 Locations by Number of Transactions')\n",
    "plt.xticks(rotation=40)  # Rotate x-axis labels for better readability\n",
    "\n",
    "plt.show()"
   ]
  },
  {
   "cell_type": "markdown",
   "metadata": {},
   "source": [
    "\n",
    "It appears that these locations have a high number of customers, and the number of transactions is also proportionate to the number of customers. Therefore, the reason for the major total sum of transactions in these locations is likely due to the larger customer base in these areas."
   ]
  },
  {
   "cell_type": "markdown",
   "metadata": {},
   "source": [
    "### Summary Insights:  \n",
    "  \n",
    "**Location Impact**: Mumbai, Delhi, and Bangalore shine with the highest transaction amounts, mainly due to their substantial customer bases.  \n",
    "\n",
    "**Demographic Focus**: Customers aged 20-40 are the most active, with males dominating transactions.  \n",
    "\n",
    "**Actionable Opportunities**: Segment customers by age and gender for targeted marketing. Prioritize the 20-40 age group and address gender disparities.  \n",
    "\n",
    "**Location Strategies**: Consider location-specific tactics for high transaction areas."
   ]
  }
 ],
 "metadata": {
  "kernelspec": {
   "display_name": "Python 3",
   "language": "python",
   "name": "python3"
  },
  "language_info": {
   "codemirror_mode": {
    "name": "ipython",
    "version": 3
   },
   "file_extension": ".py",
   "mimetype": "text/x-python",
   "name": "python",
   "nbconvert_exporter": "python",
   "pygments_lexer": "ipython3",
   "version": "3.11.6"
  },
  "orig_nbformat": 4
 },
 "nbformat": 4,
 "nbformat_minor": 2
}
